{
 "cells": [
  {
   "cell_type": "code",
   "execution_count": 2,
   "id": "db941aa7",
   "metadata": {},
   "outputs": [],
   "source": [
    "import pandas as pd"
   ]
  },
  {
   "cell_type": "code",
   "execution_count": 13,
   "id": "a40d17e3",
   "metadata": {},
   "outputs": [],
   "source": [
    "data  = pd.read_csv(\"ZAPPOS_OOS_DISCARDED_DUMP_2021-11-23.csv\")\n",
    "data2 = pd.read_csv(\"ZAPPOS_OOS_DISCARDED_DUMP_2021-11-24.csv\")\n",
    "data3 = pd.read_csv(\"ZAPPOS_OOS_DISCARDED_DUMP_2021-11-25.csv\")\n",
    "\n",
    "data_22  = {}\n",
    "data_23 = {}\n",
    "data_24 = {}\n",
    "\n",
    "a = list(data['retailer'])\n",
    "b = list(data2['retailer'])\n",
    "c = list(data3['retailer'])\n",
    "\n",
    "# print(a)\n",
    "# print(len(set(a)),len(set(b)),len(set(c)))\n",
    "\n",
    "\n",
    "def countings(x,main_data):\n",
    "    for i in range(len(x)):\n",
    "        if x[i] in main_data.keys():\n",
    "            main_data[x[i]]+=1\n",
    "        else:\n",
    "            main_data.update({x[i]:0})        \n",
    "#     for i in sorted(main_data.keys()):\n",
    "#         print(f\"{i} : {main_data[i]}\")\n",
    "\n",
    "countings(a,data_22)\n",
    "countings(b,data_23)\n",
    "countings(c,data_24)\n",
    "\n",
    "\n",
    "final_data = {'sources':[22112021,23112021,24112021,'3_day_average',24112021,'24th_value_as_a_percentage_of_the_3_day_average']}\n",
    "# final_data.update({i:[data_22[i],data_23[i],data_24[i],round((data_22[i]+data_23[i]+data_24[i])/3,2),data_22[i],round((data_22[i]/avg) * 100,2)] for i in sorted(data_22.keys())})\n",
    "for i in sorted(data_22.keys()):\n",
    "    avg = round((data_22[i]+data_23[i]+data_24[i])/3,2)\n",
    "    val = round((data_24[i]/avg) * 100,2)\n",
    "    final_data.update({i:[data_22[i],data_23[i],data_24[i],avg,data_24[i],val]})\n",
    "df =  pd.DataFrame.from_dict(final_data,orient='index')\n",
    "df.to_csv('out_table.csv',header=False)\n",
    "# print(final_data)\n",
    "    \n",
    "\n",
    "        "
   ]
  },
  {
   "cell_type": "code",
   "execution_count": 14,
   "id": "452f0970",
   "metadata": {},
   "outputs": [
    {
     "data": {
      "text/plain": [
       "pandas.core.frame.DataFrame"
      ]
     },
     "execution_count": 14,
     "metadata": {},
     "output_type": "execute_result"
    }
   ],
   "source": [
    "type(data)"
   ]
  }
 ],
 "metadata": {
  "kernelspec": {
   "display_name": "Python 3 (ipykernel)",
   "language": "python",
   "name": "python3"
  },
  "language_info": {
   "codemirror_mode": {
    "name": "ipython",
    "version": 3
   },
   "file_extension": ".py",
   "mimetype": "text/x-python",
   "name": "python",
   "nbconvert_exporter": "python",
   "pygments_lexer": "ipython3",
   "version": "3.8.12"
  }
 },
 "nbformat": 4,
 "nbformat_minor": 5
}
